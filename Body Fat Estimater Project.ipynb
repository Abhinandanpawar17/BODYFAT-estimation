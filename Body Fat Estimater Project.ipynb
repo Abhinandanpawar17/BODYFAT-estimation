{
 "cells": [
  {
   "cell_type": "markdown",
   "id": "ffa633cc",
   "metadata": {},
   "source": [
    "# Lists estimates of the percentage of body fat determined by underwater weighing and various body circumference measurements for men."
   ]
  },
  {
   "cell_type": "code",
   "execution_count": 1,
   "id": "c9cff60e",
   "metadata": {},
   "outputs": [],
   "source": [
    "import pandas as pd\n",
    "import numpy as np\n",
    "import matplotlib.pyplot as plt\n",
    "import seaborn as sns"
   ]
  },
  {
   "cell_type": "code",
   "execution_count": 2,
   "id": "72dd2669",
   "metadata": {},
   "outputs": [],
   "source": [
    "bf = pd.read_csv(r\"C:\\Users\\Abhinandan\\Desktop\\DataSet\\bodyfat.csv\")\n"
   ]
  },
  {
   "cell_type": "code",
   "execution_count": 3,
   "id": "22c34e03",
   "metadata": {},
   "outputs": [
    {
     "data": {
      "text/plain": [
       "Bodyfat    float64\n",
       "Age          int64\n",
       "Weight     float64\n",
       "Height     float64\n",
       "Neck       float64\n",
       "Chest      float64\n",
       "Abdomen    float64\n",
       "Ankle      float64\n",
       "Biceps     float64\n",
       "Wrist      float64\n",
       "dtype: object"
      ]
     },
     "execution_count": 3,
     "metadata": {},
     "output_type": "execute_result"
    }
   ],
   "source": [
    "bf.dtypes"
   ]
  },
  {
   "cell_type": "code",
   "execution_count": 14,
   "id": "8edd909f",
   "metadata": {},
   "outputs": [
    {
     "data": {
      "text/plain": [
       "(100, 10)"
      ]
     },
     "execution_count": 14,
     "metadata": {},
     "output_type": "execute_result"
    }
   ],
   "source": [
    "bf.shape"
   ]
  },
  {
   "cell_type": "code",
   "execution_count": 6,
   "id": "9e5640f0",
   "metadata": {},
   "outputs": [
    {
     "data": {
      "text/html": [
       "<div>\n",
       "<style scoped>\n",
       "    .dataframe tbody tr th:only-of-type {\n",
       "        vertical-align: middle;\n",
       "    }\n",
       "\n",
       "    .dataframe tbody tr th {\n",
       "        vertical-align: top;\n",
       "    }\n",
       "\n",
       "    .dataframe thead th {\n",
       "        text-align: right;\n",
       "    }\n",
       "</style>\n",
       "<table border=\"1\" class=\"dataframe\">\n",
       "  <thead>\n",
       "    <tr style=\"text-align: right;\">\n",
       "      <th></th>\n",
       "      <th>Bodyfat</th>\n",
       "      <th>Age</th>\n",
       "      <th>Weight</th>\n",
       "      <th>Height</th>\n",
       "      <th>Neck</th>\n",
       "      <th>Chest</th>\n",
       "      <th>Abdomen</th>\n",
       "      <th>Ankle</th>\n",
       "      <th>Biceps</th>\n",
       "      <th>Wrist</th>\n",
       "    </tr>\n",
       "  </thead>\n",
       "  <tbody>\n",
       "    <tr>\n",
       "      <th>0</th>\n",
       "      <td>32.3</td>\n",
       "      <td>41</td>\n",
       "      <td>247.25</td>\n",
       "      <td>73.50</td>\n",
       "      <td>42.1</td>\n",
       "      <td>117.0</td>\n",
       "      <td>115.6</td>\n",
       "      <td>26.3</td>\n",
       "      <td>37.3</td>\n",
       "      <td>19.7</td>\n",
       "    </tr>\n",
       "    <tr>\n",
       "      <th>1</th>\n",
       "      <td>22.5</td>\n",
       "      <td>31</td>\n",
       "      <td>177.25</td>\n",
       "      <td>71.50</td>\n",
       "      <td>36.2</td>\n",
       "      <td>101.1</td>\n",
       "      <td>92.4</td>\n",
       "      <td>24.6</td>\n",
       "      <td>30.1</td>\n",
       "      <td>18.2</td>\n",
       "    </tr>\n",
       "    <tr>\n",
       "      <th>2</th>\n",
       "      <td>22.0</td>\n",
       "      <td>42</td>\n",
       "      <td>156.25</td>\n",
       "      <td>69.00</td>\n",
       "      <td>35.5</td>\n",
       "      <td>97.8</td>\n",
       "      <td>86.0</td>\n",
       "      <td>24.0</td>\n",
       "      <td>31.2</td>\n",
       "      <td>17.4</td>\n",
       "    </tr>\n",
       "    <tr>\n",
       "      <th>3</th>\n",
       "      <td>12.3</td>\n",
       "      <td>23</td>\n",
       "      <td>154.25</td>\n",
       "      <td>67.75</td>\n",
       "      <td>36.2</td>\n",
       "      <td>93.1</td>\n",
       "      <td>85.2</td>\n",
       "      <td>21.9</td>\n",
       "      <td>32.0</td>\n",
       "      <td>17.1</td>\n",
       "    </tr>\n",
       "    <tr>\n",
       "      <th>4</th>\n",
       "      <td>20.5</td>\n",
       "      <td>46</td>\n",
       "      <td>177.00</td>\n",
       "      <td>70.00</td>\n",
       "      <td>37.2</td>\n",
       "      <td>99.7</td>\n",
       "      <td>95.6</td>\n",
       "      <td>22.5</td>\n",
       "      <td>29.1</td>\n",
       "      <td>17.7</td>\n",
       "    </tr>\n",
       "    <tr>\n",
       "      <th>...</th>\n",
       "      <td>...</td>\n",
       "      <td>...</td>\n",
       "      <td>...</td>\n",
       "      <td>...</td>\n",
       "      <td>...</td>\n",
       "      <td>...</td>\n",
       "      <td>...</td>\n",
       "      <td>...</td>\n",
       "      <td>...</td>\n",
       "      <td>...</td>\n",
       "    </tr>\n",
       "    <tr>\n",
       "      <th>95</th>\n",
       "      <td>20.1</td>\n",
       "      <td>48</td>\n",
       "      <td>177.25</td>\n",
       "      <td>72.75</td>\n",
       "      <td>36.8</td>\n",
       "      <td>96.0</td>\n",
       "      <td>90.0</td>\n",
       "      <td>22.8</td>\n",
       "      <td>29.9</td>\n",
       "      <td>18.1</td>\n",
       "    </tr>\n",
       "    <tr>\n",
       "      <th>96</th>\n",
       "      <td>29.4</td>\n",
       "      <td>43</td>\n",
       "      <td>187.75</td>\n",
       "      <td>74.00</td>\n",
       "      <td>37.7</td>\n",
       "      <td>97.8</td>\n",
       "      <td>98.6</td>\n",
       "      <td>23.8</td>\n",
       "      <td>34.3</td>\n",
       "      <td>17.7</td>\n",
       "    </tr>\n",
       "    <tr>\n",
       "      <th>97</th>\n",
       "      <td>13.0</td>\n",
       "      <td>33</td>\n",
       "      <td>184.25</td>\n",
       "      <td>68.75</td>\n",
       "      <td>40.7</td>\n",
       "      <td>98.9</td>\n",
       "      <td>92.1</td>\n",
       "      <td>23.5</td>\n",
       "      <td>33.5</td>\n",
       "      <td>19.7</td>\n",
       "    </tr>\n",
       "    <tr>\n",
       "      <th>98</th>\n",
       "      <td>25.2</td>\n",
       "      <td>26</td>\n",
       "      <td>223.00</td>\n",
       "      <td>70.25</td>\n",
       "      <td>40.6</td>\n",
       "      <td>114.1</td>\n",
       "      <td>106.8</td>\n",
       "      <td>24.7</td>\n",
       "      <td>36.0</td>\n",
       "      <td>18.4</td>\n",
       "    </tr>\n",
       "    <tr>\n",
       "      <th>99</th>\n",
       "      <td>4.0</td>\n",
       "      <td>47</td>\n",
       "      <td>127.50</td>\n",
       "      <td>66.75</td>\n",
       "      <td>34.0</td>\n",
       "      <td>83.4</td>\n",
       "      <td>70.4</td>\n",
       "      <td>21.9</td>\n",
       "      <td>26.8</td>\n",
       "      <td>16.8</td>\n",
       "    </tr>\n",
       "  </tbody>\n",
       "</table>\n",
       "<p>100 rows × 10 columns</p>\n",
       "</div>"
      ],
      "text/plain": [
       "    Bodyfat  Age  Weight  Height  Neck  Chest  Abdomen  Ankle  Biceps  Wrist\n",
       "0      32.3   41  247.25   73.50  42.1  117.0    115.6   26.3    37.3   19.7\n",
       "1      22.5   31  177.25   71.50  36.2  101.1     92.4   24.6    30.1   18.2\n",
       "2      22.0   42  156.25   69.00  35.5   97.8     86.0   24.0    31.2   17.4\n",
       "3      12.3   23  154.25   67.75  36.2   93.1     85.2   21.9    32.0   17.1\n",
       "4      20.5   46  177.00   70.00  37.2   99.7     95.6   22.5    29.1   17.7\n",
       "..      ...  ...     ...     ...   ...    ...      ...    ...     ...    ...\n",
       "95     20.1   48  177.25   72.75  36.8   96.0     90.0   22.8    29.9   18.1\n",
       "96     29.4   43  187.75   74.00  37.7   97.8     98.6   23.8    34.3   17.7\n",
       "97     13.0   33  184.25   68.75  40.7   98.9     92.1   23.5    33.5   19.7\n",
       "98     25.2   26  223.00   70.25  40.6  114.1    106.8   24.7    36.0   18.4\n",
       "99      4.0   47  127.50   66.75  34.0   83.4     70.4   21.9    26.8   16.8\n",
       "\n",
       "[100 rows x 10 columns]"
      ]
     },
     "execution_count": 6,
     "metadata": {},
     "output_type": "execute_result"
    }
   ],
   "source": [
    "bf"
   ]
  },
  {
   "cell_type": "code",
   "execution_count": 7,
   "id": "a6076f85",
   "metadata": {},
   "outputs": [
    {
     "data": {
      "text/plain": [
       "Bodyfat    0\n",
       "Age        0\n",
       "Weight     0\n",
       "Height     0\n",
       "Neck       0\n",
       "Chest      0\n",
       "Abdomen    0\n",
       "Ankle      0\n",
       "Biceps     0\n",
       "Wrist      0\n",
       "dtype: int64"
      ]
     },
     "execution_count": 7,
     "metadata": {},
     "output_type": "execute_result"
    }
   ],
   "source": [
    "bf.isnull().sum()"
   ]
  },
  {
   "cell_type": "code",
   "execution_count": 8,
   "id": "e202b94c",
   "metadata": {},
   "outputs": [
    {
     "data": {
      "text/plain": [
       "Bodyfat    float64\n",
       "Age          int64\n",
       "Weight     float64\n",
       "Height     float64\n",
       "Neck       float64\n",
       "Chest      float64\n",
       "Abdomen    float64\n",
       "Ankle      float64\n",
       "Biceps     float64\n",
       "Wrist      float64\n",
       "dtype: object"
      ]
     },
     "execution_count": 8,
     "metadata": {},
     "output_type": "execute_result"
    }
   ],
   "source": [
    "bf.dtypes"
   ]
  },
  {
   "cell_type": "code",
   "execution_count": 9,
   "id": "2022f6f2",
   "metadata": {},
   "outputs": [],
   "source": [
    "from sklearn.model_selection import train_test_split\n",
    "bf_train , bf_test = train_test_split (bf, test_size= .2)"
   ]
  },
  {
   "cell_type": "code",
   "execution_count": 10,
   "id": "901c7e27",
   "metadata": {},
   "outputs": [],
   "source": [
    "bf_train_x =bf_train.iloc[:, 1:]\n",
    "bf_train_y =bf_train.iloc[:, 0]"
   ]
  },
  {
   "cell_type": "code",
   "execution_count": 11,
   "id": "eb6fbd0d",
   "metadata": {},
   "outputs": [],
   "source": [
    "bf_test_x =bf_test.iloc[:, 1:]\n",
    "bf_test_y =bf_test.iloc[:, 0]"
   ]
  },
  {
   "cell_type": "code",
   "execution_count": 12,
   "id": "efc00737",
   "metadata": {},
   "outputs": [
    {
     "name": "stdout",
     "output_type": "stream",
     "text": [
      "(80, 9)\n",
      "(80,)\n",
      "---------------\n",
      "(20, 9)\n",
      "(20,)\n"
     ]
    }
   ],
   "source": [
    "print(bf_train_x.shape)\n",
    "print(bf_train_y.shape)\n",
    "print(\"---------------\")\n",
    "print(bf_test_x.shape)\n",
    "print(bf_test_y.shape)"
   ]
  },
  {
   "cell_type": "code",
   "execution_count": 10,
   "id": "4236e2fc",
   "metadata": {},
   "outputs": [],
   "source": [
    "# model building"
   ]
  },
  {
   "cell_type": "code",
   "execution_count": 11,
   "id": "d6b23e01",
   "metadata": {},
   "outputs": [],
   "source": [
    "from sklearn.linear_model import LinearRegression\n",
    "lin_reg = LinearRegression()"
   ]
  },
  {
   "cell_type": "code",
   "execution_count": 12,
   "id": "018aac3f",
   "metadata": {},
   "outputs": [
    {
     "data": {
      "text/plain": [
       "LinearRegression()"
      ]
     },
     "execution_count": 12,
     "metadata": {},
     "output_type": "execute_result"
    }
   ],
   "source": [
    "lin_reg.fit(bf_train_x , bf_train_y)   # model is created"
   ]
  },
  {
   "cell_type": "code",
   "execution_count": 13,
   "id": "8f1ca398",
   "metadata": {},
   "outputs": [],
   "source": [
    "# pred train\n",
    "# pred test"
   ]
  },
  {
   "cell_type": "code",
   "execution_count": 14,
   "id": "46ebc107",
   "metadata": {},
   "outputs": [],
   "source": [
    "pred_train = lin_reg.predict(bf_train_x)\n",
    "pred_test  = lin_reg.predict(bf_test_x)"
   ]
  },
  {
   "cell_type": "code",
   "execution_count": 15,
   "id": "5b52aeef",
   "metadata": {},
   "outputs": [
    {
     "data": {
      "text/plain": [
       "0.7355090182326336"
      ]
     },
     "execution_count": 15,
     "metadata": {},
     "output_type": "execute_result"
    }
   ],
   "source": [
    "Rsquare = lin_reg.score(bf_train_x , bf_train_y)\n",
    "Rsquare"
   ]
  },
  {
   "cell_type": "code",
   "execution_count": 16,
   "id": "ea9fe0f8",
   "metadata": {},
   "outputs": [],
   "source": [
    "N = bf_train_x.shape[0]  # rows\n",
    "K = bf_train_x.shape[1]  # variables"
   ]
  },
  {
   "cell_type": "code",
   "execution_count": 17,
   "id": "f588e933",
   "metadata": {},
   "outputs": [
    {
     "data": {
      "text/plain": [
       "0.7015030348625436"
      ]
     },
     "execution_count": 17,
     "metadata": {},
     "output_type": "execute_result"
    }
   ],
   "source": [
    "Adj_Rsquare = 1-( (1 - Rsquare) * (N - 1) / (N - K - 1 ))\n",
    "\n",
    "Adj_Rsquare"
   ]
  },
  {
   "cell_type": "code",
   "execution_count": 18,
   "id": "0fbf36dc",
   "metadata": {},
   "outputs": [
    {
     "data": {
      "text/plain": [
       "array([ 0.07565331, -0.06674297, -0.0838098 ,  0.16182469, -0.06707415,\n",
       "        0.96135499,  0.16626874,  0.07728015, -2.30719003])"
      ]
     },
     "execution_count": 18,
     "metadata": {},
     "output_type": "execute_result"
    }
   ],
   "source": [
    "lin_reg.coef_"
   ]
  },
  {
   "cell_type": "code",
   "execution_count": 19,
   "id": "f538c4b9",
   "metadata": {},
   "outputs": [
    {
     "data": {
      "text/plain": [
       "-19.267837883477977"
      ]
     },
     "execution_count": 19,
     "metadata": {},
     "output_type": "execute_result"
    }
   ],
   "source": [
    "lin_reg.intercept_"
   ]
  },
  {
   "cell_type": "code",
   "execution_count": 20,
   "id": "8dfc10e5",
   "metadata": {},
   "outputs": [],
   "source": [
    "error_train = bf_train_y - pred_train\n",
    "error_test  = bf_test_y  - pred_test"
   ]
  },
  {
   "cell_type": "code",
   "execution_count": 21,
   "id": "c59a81ee",
   "metadata": {},
   "outputs": [
    {
     "data": {
      "text/plain": [
       "1336.49356116708"
      ]
     },
     "execution_count": 21,
     "metadata": {},
     "output_type": "execute_result"
    }
   ],
   "source": [
    "SSE = np.sum(np.square(error_train))\n",
    "SSE"
   ]
  },
  {
   "cell_type": "code",
   "execution_count": 22,
   "id": "c50fd7b1",
   "metadata": {},
   "outputs": [],
   "source": [
    "err_wid_mean = bf_train_y.mean() - pred_train"
   ]
  },
  {
   "cell_type": "code",
   "execution_count": 23,
   "id": "b24ad8f4",
   "metadata": {},
   "outputs": [
    {
     "data": {
      "text/plain": [
       "3716.584438832928"
      ]
     },
     "execution_count": 23,
     "metadata": {},
     "output_type": "execute_result"
    }
   ],
   "source": [
    "SSR = np.sum(np.square(err_wid_mean))\n",
    "SSR"
   ]
  },
  {
   "cell_type": "code",
   "execution_count": 24,
   "id": "ba75ba1e",
   "metadata": {},
   "outputs": [
    {
     "data": {
      "text/plain": [
       "0.735509018232634"
      ]
     },
     "execution_count": 24,
     "metadata": {},
     "output_type": "execute_result"
    }
   ],
   "source": [
    "rquare = SSR /(SSR +SSE)\n",
    "rquare"
   ]
  },
  {
   "cell_type": "code",
   "execution_count": 25,
   "id": "3b5b5ab1",
   "metadata": {},
   "outputs": [
    {
     "data": {
      "text/plain": [
       "2.7422508708241366e-15"
      ]
     },
     "execution_count": 25,
     "metadata": {},
     "output_type": "execute_result"
    }
   ],
   "source": [
    "np.mean(error_train)  #   IT SHOLUD BE ZERO (0)"
   ]
  },
  {
   "cell_type": "code",
   "execution_count": 26,
   "id": "c5542be7",
   "metadata": {},
   "outputs": [
    {
     "data": {
      "image/png": "[encoded data removed]",
      "text/plain": [
       "<Figure size 432x288 with 1 Axes>"
      ]
     },
     "metadata": {
      "needs_background": "light"
     },
     "output_type": "display_data"
    }
   ],
   "source": [
    "plt.hist(error_train);"
   ]
  },
  {
   "cell_type": "code",
   "execution_count": 27,
   "id": "52ac9e2f",
   "metadata": {},
   "outputs": [
    {
     "name": "stderr",
     "output_type": "stream",
     "text": [
      "C:\\Users\\Abhinandan\\anaconda3\\lib\\site-packages\\seaborn\\distributions.py:2557: FutureWarning: `distplot` is a deprecated function and will be removed in a future version. Please adapt your code to use either `displot` (a figure-level function with similar flexibility) or `histplot` (an axes-level function for histograms).\n",
      "  warnings.warn(msg, FutureWarning)\n"
     ]
    },
    {
     "data": {
      "text/plain": [
       "<AxesSubplot:xlabel='Bodyfat', ylabel='Density'>"
      ]
     },
     "execution_count": 27,
     "metadata": {},
     "output_type": "execute_result"
    },
    {
     "data": {
      "image/png": "[encoded data removed]",
      "text/plain": [
       "<Figure size 432x288 with 1 Axes>"
      ]
     },
     "metadata": {
      "needs_background": "light"
     },
     "output_type": "display_data"
    }
   ],
   "source": [
    "sns.distplot(error_train)"
   ]
  },
  {
   "cell_type": "code",
   "execution_count": 28,
   "id": "d7b8d2de",
   "metadata": {},
   "outputs": [
    {
     "data": {
      "text/plain": [
       "<matplotlib.lines.Line2D at 0x1c44ce9d490>"
      ]
     },
     "execution_count": 28,
     "metadata": {},
     "output_type": "execute_result"
    },
    {
     "data": {
      "image/png": "[encoded data removed]",
      "text/plain": [
       "<Figure size 432x288 with 1 Axes>"
      ]
     },
     "metadata": {
      "needs_background": "light"
     },
     "output_type": "display_data"
    }
   ],
   "source": [
    "plt.plot(error_train, \"*\")\n",
    "plt.axhline(y=np.mean(error_train), color =\"r\")\n",
    "plt.axhline(y= 7.5, color=\"g\")\n",
    "plt.axhline(y=-7.5, color=\"g\")\n",
    "\n",
    "\n",
    "# scatter plot"
   ]
  },
  {
   "cell_type": "code",
   "execution_count": 29,
   "id": "22d1a958",
   "metadata": {},
   "outputs": [
    {
     "data": {
      "text/html": [
       "<div>\n",
       "<style scoped>\n",
       "    .dataframe tbody tr th:only-of-type {\n",
       "        vertical-align: middle;\n",
       "    }\n",
       "\n",
       "    .dataframe tbody tr th {\n",
       "        vertical-align: top;\n",
       "    }\n",
       "\n",
       "    .dataframe thead th {\n",
       "        text-align: right;\n",
       "    }\n",
       "</style>\n",
       "<table border=\"1\" class=\"dataframe\">\n",
       "  <thead>\n",
       "    <tr style=\"text-align: right;\">\n",
       "      <th></th>\n",
       "      <th>pred</th>\n",
       "      <th>actual</th>\n",
       "    </tr>\n",
       "  </thead>\n",
       "  <tbody>\n",
       "    <tr>\n",
       "      <th>88</th>\n",
       "      <td>14.363131</td>\n",
       "      <td>13.8</td>\n",
       "    </tr>\n",
       "    <tr>\n",
       "      <th>36</th>\n",
       "      <td>9.676947</td>\n",
       "      <td>11.4</td>\n",
       "    </tr>\n",
       "    <tr>\n",
       "      <th>0</th>\n",
       "      <td>33.073282</td>\n",
       "      <td>32.3</td>\n",
       "    </tr>\n",
       "    <tr>\n",
       "      <th>42</th>\n",
       "      <td>20.671481</td>\n",
       "      <td>19.6</td>\n",
       "    </tr>\n",
       "    <tr>\n",
       "      <th>61</th>\n",
       "      <td>16.672750</td>\n",
       "      <td>13.6</td>\n",
       "    </tr>\n",
       "    <tr>\n",
       "      <th>...</th>\n",
       "      <td>...</td>\n",
       "      <td>...</td>\n",
       "    </tr>\n",
       "    <tr>\n",
       "      <th>76</th>\n",
       "      <td>18.238267</td>\n",
       "      <td>18.2</td>\n",
       "    </tr>\n",
       "    <tr>\n",
       "      <th>97</th>\n",
       "      <td>14.707388</td>\n",
       "      <td>13.0</td>\n",
       "    </tr>\n",
       "    <tr>\n",
       "      <th>11</th>\n",
       "      <td>20.507725</td>\n",
       "      <td>20.4</td>\n",
       "    </tr>\n",
       "    <tr>\n",
       "      <th>49</th>\n",
       "      <td>17.165653</td>\n",
       "      <td>20.5</td>\n",
       "    </tr>\n",
       "    <tr>\n",
       "      <th>98</th>\n",
       "      <td>27.954089</td>\n",
       "      <td>25.2</td>\n",
       "    </tr>\n",
       "  </tbody>\n",
       "</table>\n",
       "<p>80 rows × 2 columns</p>\n",
       "</div>"
      ],
      "text/plain": [
       "         pred  actual\n",
       "88  14.363131    13.8\n",
       "36   9.676947    11.4\n",
       "0   33.073282    32.3\n",
       "42  20.671481    19.6\n",
       "61  16.672750    13.6\n",
       "..        ...     ...\n",
       "76  18.238267    18.2\n",
       "97  14.707388    13.0\n",
       "11  20.507725    20.4\n",
       "49  17.165653    20.5\n",
       "98  27.954089    25.2\n",
       "\n",
       "[80 rows x 2 columns]"
      ]
     },
     "execution_count": 29,
     "metadata": {},
     "output_type": "execute_result"
    }
   ],
   "source": [
    "actual_pred = pd.DataFrame({\"pred\":pred_train , \"actual\": bf_train_y})\n",
    "actual_pred"
   ]
  },
  {
   "cell_type": "code",
   "execution_count": 30,
   "id": "ff6e9beb",
   "metadata": {},
   "outputs": [
    {
     "data": {
      "text/plain": [
       "<AxesSubplot:xlabel='actual', ylabel='pred'>"
      ]
     },
     "execution_count": 30,
     "metadata": {},
     "output_type": "execute_result"
    },
    {
     "data": {
      "image/png": "[encoded data removed]",
      "text/plain": [
       "<Figure size 432x288 with 1 Axes>"
      ]
     },
     "metadata": {
      "needs_background": "light"
     },
     "output_type": "display_data"
    }
   ],
   "source": [
    "sns.regplot(x= \"actual\" , y= \"pred\", data= actual_pred)"
   ]
  },
  {
   "cell_type": "code",
   "execution_count": 31,
   "id": "f4e4534d",
   "metadata": {},
   "outputs": [],
   "source": [
    "# Lets find MAE, MSE, MAPE, RMSE"
   ]
  },
  {
   "cell_type": "code",
   "execution_count": 32,
   "id": "533a7235",
   "metadata": {},
   "outputs": [
    {
     "data": {
      "text/plain": [
       "2.8118425562990117"
      ]
     },
     "execution_count": 32,
     "metadata": {},
     "output_type": "execute_result"
    }
   ],
   "source": [
    "MAE = np.mean(np.abs(error_test))\n",
    "MAE"
   ]
  },
  {
   "cell_type": "code",
   "execution_count": 33,
   "id": "7418aa3f",
   "metadata": {},
   "outputs": [
    {
     "data": {
      "text/plain": [
       "11.482224090298844"
      ]
     },
     "execution_count": 33,
     "metadata": {},
     "output_type": "execute_result"
    }
   ],
   "source": [
    "MSE = np.mean(np.square(error_test))\n",
    "MSE"
   ]
  },
  {
   "cell_type": "code",
   "execution_count": 34,
   "id": "d7c97deb",
   "metadata": {},
   "outputs": [
    {
     "data": {
      "text/plain": [
       "3.3885430630728073"
      ]
     },
     "execution_count": 34,
     "metadata": {},
     "output_type": "execute_result"
    }
   ],
   "source": [
    "RMSE = np.sqrt(MSE)\n",
    "RMSE"
   ]
  },
  {
   "cell_type": "code",
   "execution_count": 35,
   "id": "d7f353c8",
   "metadata": {},
   "outputs": [
    {
     "data": {
      "text/plain": [
       "18.27026253653359"
      ]
     },
     "execution_count": 35,
     "metadata": {},
     "output_type": "execute_result"
    }
   ],
   "source": [
    "MAPE= np.mean(np.abs(error_test *100 /bf_test_y))\n",
    "MAPE"
   ]
  },
  {
   "cell_type": "code",
   "execution_count": 36,
   "id": "d49b8dd6",
   "metadata": {},
   "outputs": [
    {
     "data": {
      "text/plain": [
       "82.0"
      ]
     },
     "execution_count": 36,
     "metadata": {},
     "output_type": "execute_result"
    }
   ],
   "source": [
    "Acc = np.round(100- MAPE)\n",
    "Acc"
   ]
  },
  {
   "cell_type": "code",
   "execution_count": null,
   "id": "f33ab188",
   "metadata": {},
   "outputs": [],
   "source": []
  }
 ],
 "metadata": {
  "kernelspec": {
   "display_name": "Python 3",
   "language": "python",
   "name": "python3"
  },
  "language_info": {
   "codemirror_mode": {
    "name": "ipython",
    "version": 3
   },
   "file_extension": ".py",
   "mimetype": "text/x-python",
   "name": "python",
   "nbconvert_exporter": "python",
   "pygments_lexer": "ipython3",
   "version": "3.8.8"
  },
  "toc": {
   "base_numbering": 1,
   "nav_menu": {},
   "number_sections": true,
   "sideBar": true,
   "skip_h1_title": false,
   "title_cell": "Table of Contents",
   "title_sidebar": "Contents",
   "toc_cell": false,
   "toc_position": {},
   "toc_section_display": true,
   "toc_window_display": false
  }
 },
 "nbformat": 4,
 "nbformat_minor": 5
}
